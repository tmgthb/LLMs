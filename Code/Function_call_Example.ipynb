{
 "cells": [
  {
   "cell_type": "code",
   "execution_count": null,
   "metadata": {},
   "outputs": [],
   "source": [
    "!pip install --upgrade openai\n",
    "import os\n",
    "import json\n",
    "import time\n",
    "from openai import OpenAI \n",
    "client = OpenAI(\n",
    "    api_key=os.getenv(\"openaikey\"))"
   ]
  },
  {
   "cell_type": "code",
   "execution_count": null,
   "metadata": {},
   "outputs": [],
   "source": [
    "user_input = f'I am excited at home thinking about the way to use Functions to generate new types of fully audio controlled app.'\n",
    "filename = f'memory.json'\n",
    "function_name = f'add_memory'\n",
    "function_description =f'Function retrieves user input and saves file using the add_memory function.'\n",
    "assistant_instruction = r'Convert user (Teemu) inputs to json format with function called {}. Fill all variables and use code interpreter to define exact time at the moment by calling the time package and retrieve current date and time to populate timestamp.  Wait for the function execution and inform user about the retrieved message from the functon executed.'.format(function_name, filename)\n",
    "model_name = f'gpt-4-1106-preview'\n",
    "retrieval_tool = {\"type\": \"retrieval\"}\n",
    "code_interpreter_tool = {\"type\": \"code_interpreter\"} \n",
    "function_tool = {\n",
    "      \"type\": \"function\",\n",
    "    \"function\": {\n",
    "      \"name\": function_name,\n",
    "      \"description\": function_description,\n",
    "      \"parameters\": {\n",
    "        \"type\": \"object\",\n",
    "        \"properties\": {\n",
    "          \"time_stamp\": {\"type\": \"string\", \"description\": \"The exact time of the user input, for example 14.11.2023 - 18.45\"},\n",
    "          \"subject\": {\"type\": \"string\", \"description\": \"Describe the subject with 1-2 words, for example Dentist appointment\"},\n",
    "          \"description\": {\"type\": \"string\", \"description\": \"Short summary describing relevant information, for example: Tony reserved dentist. There were no free appointments until end of November 2023.\"},\n",
    "          \"people\": {\"type\": \"string\", \"description\": \"Add optionally names or characters of people separated with a comma. For example: Tony, Dentist\"},\n",
    "          \"feelings\": {\"type\": \"string\", \"description\": \"Express optionally emotions separated with a comma, for example: frustrated\"},\n",
    "        },\n",
    "        \"required\": [\"timestamp\", \"subject\", \"description\", \"people\", \"feelings\"]\n",
    "      }\n",
    "    }\n",
    "  }\n",
    "assistant_tools = [retrieval_tool, code_interpreter_tool, function_tool]"
   ]
  },
  {
   "cell_type": "code",
   "execution_count": null,
   "metadata": {},
   "outputs": [],
   "source": [
    "def add_memory(timestamp, subject, description, people=None, feelings=None):\n",
    "    memory_entry = {\n",
    "        'timestamp': timestamp,\n",
    "        'subject': subject,\n",
    "        'description': description,\n",
    "        'people': people if people else \"Not available\",\n",
    "        'feelings': feelings if feelings else \"Not available\"\n",
    "        }\n",
    "\n",
    "    try:\n",
    "        with open(filename, 'r') as file:\n",
    "            data = json.load(file)\n",
    "    except (FileNotFoundError, json.JSONDecodeError):\n",
    "        data = {}\n",
    "\n",
    "    order_number = len(data) + 1\n",
    "\n",
    "    data[str(order_number)] = memory_entry\n",
    "\n",
    "    try:\n",
    "        with open(filename, 'w') as file:\n",
    "            json.dump(data, file, indent=10)\n",
    "        function_output = r\"The new memory records were inserted succesfully.\"\n",
    "    except Exception as e:\n",
    "        function_output = r\"The new memory record generation failed.\"        \n",
    "\n",
    "    return function_output\n"
   ]
  },
  {
   "cell_type": "code",
   "execution_count": null,
   "metadata": {},
   "outputs": [],
   "source": [
    "assistant = client.beta.assistants.create(\n",
    "  instructions= assistant_instruction,\n",
    "  model=model_name,\n",
    "  tools= assistant_tools\n",
    ")"
   ]
  },
  {
   "cell_type": "code",
   "execution_count": null,
   "metadata": {},
   "outputs": [],
   "source": [
    "thread = client.beta.threads.create()\n",
    "\n",
    "message = client.beta.threads.messages.create(\n",
    "    thread_id=thread.id,\n",
    "    role=\"user\",\n",
    "    content=user_input)"
   ]
  },
  {
   "cell_type": "code",
   "execution_count": null,
   "metadata": {},
   "outputs": [],
   "source": [
    "run = client.beta.threads.runs.create(\n",
    "  thread_id=thread.id,\n",
    "  assistant_id=assistant.id)\n",
    "time.sleep(9.5)\n",
    "print(run.status)"
   ]
  },
  {
   "cell_type": "code",
   "execution_count": null,
   "metadata": {},
   "outputs": [],
   "source": [
    "run = client.beta.threads.runs.retrieve(\n",
    "  thread_id=thread.id,\n",
    "  run_id=run.id)\n",
    "time.sleep(2.5)\n",
    "print(run.status)"
   ]
  },
  {
   "cell_type": "code",
   "execution_count": null,
   "metadata": {},
   "outputs": [],
   "source": [
    "tool_call_id = run.required_action.submit_tool_outputs.tool_calls[0]\n",
    "function_name = run.required_action.submit_tool_outputs.tool_calls[0].function.name\n",
    "function_arguments = json.loads(run.required_action.submit_tool_outputs.tool_calls[0].function.arguments)\n",
    "print(function_name + \"\\n\" + function_arguments[\"time_stamp\"] + \"\\n\" +function_arguments[\"subject\"]  + \"\\n\" +function_arguments[\"description\"] + \"\\n\" +function_arguments[\"people\"] + \"\\n\" + function_arguments[\"feelings\"])\n"
   ]
  },
  {
   "cell_type": "code",
   "execution_count": null,
   "metadata": {},
   "outputs": [],
   "source": [
    "function_response = globals()[function_name](function_arguments[\"time_stamp\"], function_arguments[\"subject\"], function_arguments[\"description\"], function_arguments[\"people\"], function_arguments[\"feelings\"])\n",
    "print(function_response)"
   ]
  },
  {
   "cell_type": "code",
   "execution_count": null,
   "metadata": {},
   "outputs": [],
   "source": [
    "run = client.beta.threads.runs.submit_tool_outputs(\n",
    "    thread_id=thread.id,\n",
    "    run_id=run.id,\n",
    "    tool_outputs=[\n",
    "        {\n",
    "            \"tool_call_id\": tool_call_id.id,\n",
    "            \"output\": function_response,\n",
    "        }\n",
    "    ],\n",
    ")\n",
    "print(run.status)"
   ]
  },
  {
   "cell_type": "code",
   "execution_count": null,
   "metadata": {},
   "outputs": [],
   "source": [
    "run = client.beta.threads.runs.retrieve(\n",
    "  thread_id=thread.id,\n",
    "  run_id=run.id)\n",
    "time.sleep(1)\n",
    "print(run.status)"
   ]
  },
  {
   "cell_type": "code",
   "execution_count": null,
   "metadata": {},
   "outputs": [],
   "source": [
    "messages = client.beta.threads.messages.list(\n",
    "  thread_id=thread.id)\n",
    "print(messages.data[0].content[0].text.value)"
   ]
  },
  {
   "cell_type": "code",
   "execution_count": null,
   "metadata": {},
   "outputs": [],
   "source": [
    "client.beta.assistants.delete(assistant.id)"
   ]
  }
 ],
 "metadata": {
  "kernelspec": {
   "display_name": "openai-env",
   "language": "python",
   "name": "python3"
  },
  "language_info": {
   "codemirror_mode": {
    "name": "ipython",
    "version": 3
   },
   "file_extension": ".py",
   "mimetype": "text/x-python",
   "name": "python",
   "nbconvert_exporter": "python",
   "pygments_lexer": "ipython3",
   "version": "3.11.5"
  }
 },
 "nbformat": 4,
 "nbformat_minor": 2
}
